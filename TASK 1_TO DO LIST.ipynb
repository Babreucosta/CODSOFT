{
 "cells": [
  {
   "cell_type": "markdown",
   "id": "91028647",
   "metadata": {},
   "source": [
    "# CODSOFT INTERNSHIP - PYTHON PROGRAMMING "
   ]
  },
  {
   "cell_type": "markdown",
   "id": "88253e9d",
   "metadata": {},
   "source": [
    "## TASK 1: TO DO LIST\n",
    "A To-Do List application is a useful project that helps users manage and organize their tasks efficiently. This project aims to create a command-line or GUI-based application using Python, allowing users to create, update, and track their to-do lists\n",
    "\n",
    "### Introduction\n",
    "This article presents the development of a task management application using Python's Tkinter library. The application allows users to add, view, and delete tasks, providing an intuitive graphical interface.\n",
    "\n",
    "### Objective\n",
    "The primary goal is to create a functional application that efficiently manages tasks, leveraging Tkinter's features for graphical interface construction."
   ]
  },
  {
   "cell_type": "markdown",
   "id": "a1f86a6b",
   "metadata": {},
   "source": [
    "### Development"
   ]
  },
  {
   "cell_type": "markdown",
   "id": "72f54af1",
   "metadata": {},
   "source": [
    "#### 1. Importing Libraries\n",
    "\n",
    "    We begin by importing the necessary libraries:"
   ]
  },
  {
   "cell_type": "code",
   "execution_count": 9,
   "id": "3fa838ca",
   "metadata": {},
   "outputs": [],
   "source": [
    "import tkinter as tk\n",
    "from tkinter import simpledialog, messagebox\n",
    "from tkinter import font, Toplevel, simpledialog"
   ]
  },
  {
   "cell_type": "markdown",
   "id": "a700ab29",
   "metadata": {},
   "source": [
    "    The tkinter library is used for creating the graphical interface, while font, Toplevel, and simpledialog provide additional functionalities for customization and dialogs."
   ]
  },
  {
   "cell_type": "markdown",
   "id": "185340ae",
   "metadata": {},
   "source": [
    "#### 2. Data Structure\n",
    "\n",
    "    We define a list tasks to store the tasks:"
   ]
  },
  {
   "cell_type": "code",
   "execution_count": 10,
   "id": "fa91f1a1",
   "metadata": {},
   "outputs": [],
   "source": [
    "tasks = []"
   ]
  },
  {
   "cell_type": "markdown",
   "id": "3612bc92",
   "metadata": {},
   "source": [
    "#### 3. Helper Functions\n",
    "\n",
    "    We create the create_custom_dialog function to generate customized dialog boxes:"
   ]
  },
  {
   "cell_type": "code",
   "execution_count": 11,
   "id": "8f9374e1",
   "metadata": {},
   "outputs": [],
   "source": [
    "def create_custom_dialog(title, message, bg_color, with_entry=False):\n",
    "    dialog = Toplevel()\n",
    "    dialog.title(title)\n",
    "    dialog.configure(bg=bg_color)\n",
    "    dialog.geometry(\"400x300\")\n",
    "\n",
    "    tk.Label(dialog, text=message, bg=bg_color, fg=\"black\", font=(\"Arial\", 14)).pack(pady=20)\n",
    "\n",
    "    if with_entry:\n",
    "        task_var = tk.StringVar()\n",
    "        task_entry = tk.Entry(dialog, textvariable=task_var, font=(\"Arial\", 12))\n",
    "        task_entry.pack(pady=10)\n",
    "\n",
    "        def on_submit():\n",
    "            task = task_var.get()\n",
    "            dialog.destroy()\n",
    "            return task\n",
    "\n",
    "        tk.Button(dialog, text=\"Submit\", command=on_submit, font=(\"Arial\", 12), bg=\"white\").pack(pady=10)\n",
    "        dialog.grab_set()\n",
    "        dialog.wait_window()\n",
    "        return task_var.get()\n",
    "\n",
    "    else:\n",
    "        tk.Button(dialog, text=\"OK\", command=dialog.destroy, font=(\"Arial\", 12), bg=\"white\").pack(pady=10)\n",
    "        dialog.grab_set()\n",
    "        dialog.wait_window() "
   ]
  },
  {
   "cell_type": "markdown",
   "id": "9e6d5a3a",
   "metadata": {},
   "source": [
    "    This function allows the creation of dialogs with or without input fields, facilitating user interaction.\n",
    "\n"
   ]
  },
  {
   "cell_type": "markdown",
   "id": "d03136c3",
   "metadata": {},
   "source": [
    "#### 4. Main Functions\n",
    "    4.1. Add Task\n",
    "    The add_task function enables the user to add a new task:"
   ]
  },
  {
   "cell_type": "code",
   "execution_count": 12,
   "id": "2d39ba62",
   "metadata": {},
   "outputs": [],
   "source": [
    "def add_task(root):\n",
    "    task = create_custom_dialog(\"ADD TASK\", \"PLEASE ENTER A NEW TASK:\", \"lightgreen\", with_entry=True)\n",
    "    if task:\n",
    "        tasks.append(task)\n",
    "        show_warning(root, f\"TASK '{task}' ADDED SUCCESSFULLY!\")\n",
    "    else:\n",
    "        show_warning(root, \"NO TASK WAS ENTERED.\")\n"
   ]
  },
  {
   "cell_type": "markdown",
   "id": "f0f378cc",
   "metadata": {},
   "source": [
    "    4.2. List Task\n",
    "    The list_tasks function displays all stored tasks:"
   ]
  },
  {
   "cell_type": "code",
   "execution_count": 13,
   "id": "e2e943dd",
   "metadata": {},
   "outputs": [],
   "source": [
    "def list_tasks(root):\n",
    "    if not tasks:\n",
    "        create_custom_dialog(\"NO TASKS\", \"THERE ARE NO TASKS CURRENTLY.\", \"lightblue\")\n",
    "    else:\n",
    "        task_list = \"\\n\".join(f\"Task #{i + 1}: {task}\" for i, task in enumerate(tasks))\n",
    "        create_custom_dialog(\"Task List\", task_list, \"lightblue\")"
   ]
  },
  {
   "cell_type": "markdown",
   "id": "edf3a121",
   "metadata": {},
   "source": [
    "    4.3. Delete Task\n",
    "    The delete_task function allows the user to remove a specific task:"
   ]
  },
  {
   "cell_type": "code",
   "execution_count": 14,
   "id": "836ae5e8",
   "metadata": {},
   "outputs": [],
   "source": [
    "def delete_task(root):\n",
    "    if not tasks:\n",
    "        show_warning(root, \"THERE ARE NO TASKS TO DELETE.\")\n",
    "        return\n",
    "    task_list = \"\\n\".join(f\"{i + 1}. {task}\" for i, task in enumerate(tasks))\n",
    "    dialog = Toplevel()\n",
    "    dialog.title(\"Delete Task\")\n",
    "    dialog.configure(bg=\"pink\")\n",
    "    dialog.geometry(\"400x300\")\n",
    "\n",
    "    tk.Label(dialog, text=f\"SELECT A TASK TO DELETE:\\n\\n{task_list}\", bg=\"pink\", fg=\"black\", font=(\"Arial\", 12)).pack(pady=20)\n",
    "    task_var = tk.StringVar()\n",
    "    task_entry = tk.Entry(dialog, textvariable=task_var, font=(\"Arial\", 12))\n",
    "    task_entry.pack(pady=10)\n",
    "\n",
    "    def delete_selected_task():\n",
    "        try:\n",
    "            task_to_delete = int(task_var.get()) - 1\n",
    "            if 0 <= task_to_delete < len(tasks):\n",
    "                deleted_task = tasks.pop(task_to_delete)\n",
    "                show_warning(root, f\"TASK '{deleted_task}' REMOVED SUCCESSFULLY!\")\n",
    "            else:\n",
    "                show_warning(root, \"NO TASK FOUND WITH THE GIVEN NUMBER.\")\n",
    "        except ValueError:\n",
    "            show_warning(root, \"PLEASE ENTER A VALID NUMBER.\")\n",
    "        dialog.destroy()\n",
    "\n",
    "    tk.Button(dialog, text=\"DELETE\", command=delete_selected_task, font=(\"Arial\", 12), bg=\"white\").pack(pady=10)\n",
    "    dialog.grab_set()\n",
    "    dialog.wait_window()"
   ]
  },
  {
   "cell_type": "markdown",
   "id": "a01e0a22",
   "metadata": {},
   "source": [
    "#### 5. Warning Function\n",
    "\n",
    "    The show_warning function displays warning messages to the user:"
   ]
  },
  {
   "cell_type": "code",
   "execution_count": 15,
   "id": "a9a1c64d",
   "metadata": {},
   "outputs": [],
   "source": [
    "def show_warning(root, message):\n",
    "    return create_custom_dialog(\"Warning\", message, \"peachpuff\")"
   ]
  },
  {
   "cell_type": "markdown",
   "id": "4c1a3bfd",
   "metadata": {},
   "source": [
    "#### 6. Main Window Configuration\n",
    "\n",
    "    The main function configures the main window and interaction buttons:"
   ]
  },
  {
   "cell_type": "code",
   "execution_count": 16,
   "id": "de762070",
   "metadata": {},
   "outputs": [],
   "source": [
    "def main():\n",
    "    root = tk.Tk()\n",
    "    root.title(\"To-Do List App\")\n",
    "    root.configure(bg=\"peachpuff\")\n",
    "\n",
    "    button_font = font.Font(family=\"Arial\", size=14, weight=\"bold\")\n",
    "\n",
    "    tk.Label(\n",
    "        root,\n",
    "        text=\"WELCOME TO THE TO-DO LIST APP!\",\n",
    "        font=(\"Arial\", 16, \"italic\"),\n",
    "        fg=\"black\",\n",
    "        bg=\"peachpuff\"\n",
    "    ).pack(pady=10)\n",
    "\n",
    "    tk.Button(root, text=\"ADD TASK\", command=lambda: add_task(root), font=button_font, bg=\"lightgreen\", fg=\"black\").pack(pady=5)\n",
    "    tk.Button(root, text=\"SEE MY LIST\", command=lambda: list_tasks(root), font=button_font, bg=\"lightblue\", fg=\"black\").pack(pady=5)\n",
    "    tk.Button(root, text=\"DELETE TASK\", command=lambda: delete_task(root), font=button_font, bg=\"pink\", fg=\"black\").pack(pady=5)\n",
    "    tk.Button(root, text=\"EXIT\", command=root.destroy, font=button_font, bg=\"red\", fg=\"white\").pack(pady=5)\n",
    "\n",
    "    root.mainloop()\n",
    "\n",
    "if __name__ == \"__main__\":\n",
    "    main()\n"
   ]
  }
 ],
 "metadata": {
  "kernelspec": {
   "display_name": "Python 3 (ipykernel)",
   "language": "python",
   "name": "python3"
  },
  "language_info": {
   "codemirror_mode": {
    "name": "ipython",
    "version": 3
   },
   "file_extension": ".py",
   "mimetype": "text/x-python",
   "name": "python",
   "nbconvert_exporter": "python",
   "pygments_lexer": "ipython3",
   "version": "3.9.13"
  }
 },
 "nbformat": 4,
 "nbformat_minor": 5
}
