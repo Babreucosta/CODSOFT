{
 "cells": [
  {
   "cell_type": "markdown",
   "id": "39415235",
   "metadata": {},
   "source": [
    "# CODSOFT INTERNSHIP - PYTHON PROGRAMMING "
   ]
  },
  {
   "cell_type": "markdown",
   "id": "7b0e6256",
   "metadata": {},
   "source": [
    "## TASK 1: TO DO LIST\n",
    "A To-Do List application is a useful project that helps users manage and organize their tasks efficiently. This project aims to create a command-line or GUI-based application using Python, allowing users to create, update, and track their to-do lists\n",
    "\n",
    "### Introduction\n",
    "This article presents the development of a task management application using Python's Tkinter library. The application allows users to add, view, and delete tasks, providing an intuitive graphical interface.\n",
    "\n",
    "### Objective\n",
    "The primary goal is to create a functional application that efficiently manages tasks, leveraging Tkinter's features for graphical interface construction."
   ]
  },
  {
   "cell_type": "markdown",
   "id": "39e23dce",
   "metadata": {},
   "source": [
    "### Development"
   ]
  },
  {
   "cell_type": "markdown",
   "id": "2e4b0830",
   "metadata": {},
   "source": [
    "#### 1. Importing Libraries\n",
    "\n",
    "    We begin by importing the necessary libraries:"
   ]
  },
  {
   "cell_type": "code",
   "execution_count": 1,
   "id": "3fa838ca",
   "metadata": {},
   "outputs": [],
   "source": [
    "import tkinter as tk\n",
    "from tkinter import simpledialog, messagebox\n",
    "from tkinter import font, Toplevel, simpledialog"
   ]
  },
  {
   "cell_type": "markdown",
   "id": "ef49ebf8",
   "metadata": {},
   "source": [
    "    The tkinter library is used for creating the graphical interface, while font, Toplevel, and simpledialog provide additional functionalities for customization and dialogs."
   ]
  },
  {
   "cell_type": "markdown",
   "id": "54c06313",
   "metadata": {},
   "source": [
    "#### 2. Data Structure\n",
    "\n",
    "    We define a list tasks to store the tasks:"
   ]
  },
  {
   "cell_type": "code",
   "execution_count": 2,
   "id": "36285ac0",
   "metadata": {},
   "outputs": [],
   "source": [
    "tasks = []"
   ]
  },
  {
   "cell_type": "markdown",
   "id": "669e7a83",
   "metadata": {},
   "source": [
    "#### 3. Helper Functions\n",
    "\n",
    "    We create the create_custom_dialog function to generate customized dialog boxes:"
   ]
  },
  {
   "cell_type": "code",
   "execution_count": 3,
   "id": "cfd50278",
   "metadata": {},
   "outputs": [],
   "source": [
    "def create_custom_dialog(title, message, bg_color, with_entry=False):\n",
    "    \"\"\"Creates a custom dialog box.\"\"\"\n",
    "    dialog = Toplevel()\n",
    "    dialog.title(title)\n",
    "    dialog.configure(bg=bg_color)\n",
    "    dialog.geometry(\"400x300\")\n",
    "\n",
    "    tk.Label(dialog, text=message.upper(), bg=bg_color, fg=\"black\", font=(\"Arial\", 14)).pack(pady=20)\n",
    "\n",
    "    if with_entry:\n",
    "        # Input field for the \"ADD TASK\" option\n",
    "        task_var = tk.StringVar()\n",
    "        task_entry = tk.Entry(dialog, textvariable=task_var, font=(\"Arial\", 12))\n",
    "        task_entry.pack(pady=10)\n",
    "\n",
    "        def on_submit():\n",
    "            task = task_var.get()\n",
    "            dialog.destroy()\n",
    "            return task\n",
    "        \n",
    "        tk.Button(dialog, text=\"SUBMIT\", command=on_submit, font=(\"Arial\", 12), bg=\"white\").pack(pady=10)\n",
    "        dialog.grab_set()  # Makes the dialog modal\n",
    "        dialog.wait_window()  # Waits for the dialog to close\n",
    "        return task_var.get()  # Returns the entered value\n",
    "\n",
    "    else:\n",
    "        # Just the message and an \"OK\" button for other dialog boxes\n",
    "        tk.Button(dialog, text=\"OK\", command=dialog.destroy, font=(\"Arial\", 12), bg=\"white\").pack(pady=10)\n",
    "        dialog.grab_set()  # Makes the dialog modal\n",
    "        dialog.wait_window()  # Waits for the dialog to close"
   ]
  },
  {
   "cell_type": "markdown",
   "id": "4280cc33",
   "metadata": {},
   "source": [
    "    This function allows the creation of dialogs with or without input fields, facilitating user interaction.\n",
    "\n"
   ]
  },
  {
   "cell_type": "markdown",
   "id": "2ecb1f14",
   "metadata": {},
   "source": [
    "#### 4. Main Functions\n",
    "    4.1. Add Task\n",
    "    The add_task function enables the user to add a new task:"
   ]
  },
  {
   "cell_type": "code",
   "execution_count": 4,
   "id": "412b8986",
   "metadata": {},
   "outputs": [],
   "source": [
    "def add_task():\n",
    "    \"\"\"Adds a new task to the list.\"\"\"\n",
    "    task = create_custom_dialog(\"ADD TASK\", \"PLEASE ENTER A NEW TASK:\", \"lightgreen\", with_entry=True)\n",
    "    if task:\n",
    "        tasks.append(task)\n",
    "        show_warning(f\"TASK '{task}' ADDED SUCCESSFULLY!\")\n",
    "    else:\n",
    "        show_warning(\"NO TASK WAS ENTERED.\")"
   ]
  },
  {
   "cell_type": "markdown",
   "id": "a0473638",
   "metadata": {},
   "source": [
    "    4.2. List Task\n",
    "    The list_tasks function displays all stored tasks:"
   ]
  },
  {
   "cell_type": "code",
   "execution_count": 5,
   "id": "457928fb",
   "metadata": {},
   "outputs": [],
   "source": [
    "def list_tasks():\n",
    "    \"\"\"Lists all tasks.\"\"\"\n",
    "    if not tasks:\n",
    "        create_custom_dialog(\"NO TASKS\", \"THERE ARE NO TASKS CURRENTLY.\", \"lightblue\")\n",
    "    else:\n",
    "        task_list = \"\\n\".join(f\"TASK #{i + 1}: {task}\" for i, task in enumerate(tasks))\n",
    "        create_custom_dialog(\"TASK LIST\", task_list, \"lightblue\")"
   ]
  },
  {
   "cell_type": "markdown",
   "id": "09447a0e",
   "metadata": {},
   "source": [
    "    4.3.Delete Task\n",
    "    The delete_task function allows the user to remove a specific task:"
   ]
  },
  {
   "cell_type": "code",
   "execution_count": 6,
   "id": "19f84af0",
   "metadata": {},
   "outputs": [],
   "source": [
    "def delete_task():\n",
    "    \"\"\"Removes a specific task.\"\"\"\n",
    "    if not tasks:\n",
    "        show_warning(\"THERE ARE NO TASKS TO DELETE.\")\n",
    "        return\n",
    "    task_list = \"\\n\".join(f\"{i + 1}. {task}\" for i, task in enumerate(tasks))\n",
    "    dialog = Toplevel()\n",
    "    dialog.title(\"DELETE TASK\")\n",
    "    dialog.configure(bg=\"pink\")\n",
    "    dialog.geometry(\"400x300\")\n",
    "\n",
    "    tk.Label(dialog, text=f\"SELECT A TASK TO DELETE:\\n\\n{task_list}\", bg=\"pink\", fg=\"black\", font=(\"Arial\", 12)).pack(pady=20)\n",
    "    task_var = tk.StringVar()\n",
    "    task_entry = tk.Entry(dialog, textvariable=task_var, font=(\"Arial\", 12))\n",
    "    task_entry.pack(pady=10)\n",
    "\n",
    "    def delete_selected_task():\n",
    "        try:\n",
    "            task_to_delete = int(task_var.get()) - 1\n",
    "            if 0 <= task_to_delete < len(tasks):\n",
    "                deleted_task = tasks.pop(task_to_delete)\n",
    "                root.configure(bg=\"pink\")\n",
    "                show_warning(f\"TASK '{deleted_task}' REMOVED SUCCESSFULLY!\")\n",
    "            else:\n",
    "                show_warning(\"NO TASK FOUND WITH THE GIVEN NUMBER.\")\n",
    "        except ValueError:\n",
    "            show_warning(\"PLEASE ENTER A VALID NUMBER.\")\n",
    "        dialog.destroy()\n",
    "\n",
    "    tk.Button(dialog, text=\"DELETE\", command=delete_selected_task, font=(\"Arial\", 12), bg=\"white\").pack(pady=10)\n",
    "    dialog.grab_set()  # Makes the dialog modal\n",
    "    dialog.wait_window()  # Waits for the dialog to close"
   ]
  },
  {
   "cell_type": "markdown",
   "id": "823ffd4e",
   "metadata": {},
   "source": [
    "#### 5. Warning Function\n",
    "\n",
    "    The show_warning function displays warning messages to the user:"
   ]
  },
  {
   "cell_type": "code",
   "execution_count": 7,
   "id": "64a341f8",
   "metadata": {},
   "outputs": [],
   "source": [
    "def show_warning(message):\n",
    "    return create_custom_dialog(\"WARNING\", message, \"peachpuff\")"
   ]
  },
  {
   "cell_type": "markdown",
   "id": "a391ae06",
   "metadata": {},
   "source": [
    "#### 6. Main Window Configuration\n",
    "\n",
    "    The main function configures the main window and interaction buttons:"
   ]
  },
  {
   "cell_type": "code",
   "execution_count": 8,
   "id": "51231c83",
   "metadata": {},
   "outputs": [],
   "source": [
    "def main():\n",
    "    root = tk.Tk()\n",
    "    root.title(\"TO-DO LIST APP\")\n",
    "    \n",
    "    # Background color \n",
    "    root.configure(bg=\"peachpuff\")  # Sets the background color of the main window\n",
    "\n",
    "    # Define font styles\n",
    "    button_font = font.Font(family=\"Arial\", size=14, weight=\"bold\")\n",
    "\n",
    "    # Stylized title\n",
    "    tk.Label(\n",
    "        root,\n",
    "        text=\"WELCOME TO THE TO-DO LIST APP!\",\n",
    "        font=(\"Arial\", 16, \"italic\"),\n",
    "        fg=\"black\",\n",
    "        bg=\"peachpuff\"\n",
    "    ).pack(pady=30)\n",
    "\n",
    "    # Styled buttons\n",
    "    tk.Button(root, text=\"ADD TASK\", command=add_task, font=button_font, bg=\"lightgreen\", fg=\"black\").pack(pady=10)\n",
    "    tk.Button(root, text=\"SEE MY LIST\", command=list_tasks, font=button_font, bg=\"lightblue\", fg=\"black\").pack(pady=10)\n",
    "    tk.Button(root, text=\"DELETE TASK\", command=delete_task, font=button_font, bg=\"pink\", fg=\"black\").pack(pady=10)\n",
    "    tk.Button(root, text=\"EXIT\", command=root.destroy, font=button_font, bg=\"red\", fg=\"white\").pack(pady=10)\n",
    "\n",
    "    root.mainloop()\n",
    "\n",
    "if __name__ == \"__main__\":\n",
    "    main()\n"
   ]
  }
 ],
 "metadata": {
  "kernelspec": {
   "display_name": "Python 3 (ipykernel)",
   "language": "python",
   "name": "python3"
  },
  "language_info": {
   "codemirror_mode": {
    "name": "ipython",
    "version": 3
   },
   "file_extension": ".py",
   "mimetype": "text/x-python",
   "name": "python",
   "nbconvert_exporter": "python",
   "pygments_lexer": "ipython3",
   "version": "3.9.13"
  }
 },
 "nbformat": 4,
 "nbformat_minor": 5
}
